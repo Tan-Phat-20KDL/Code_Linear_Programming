{
  "cells": [
    {
      "cell_type": "code",
      "execution_count": 1,
      "metadata": {
        "colab": {
          "base_uri": "https://localhost:8080/"
        },
        "id": "KlY9zJ02CGa3",
        "outputId": "574a0955-7dd7-4120-e149-5bfa8e5d3db4"
      },
      "outputs": [
        {
          "name": "stdout",
          "output_type": "stream",
          "text": [
            "Collecting pulp\n",
            "  Downloading PuLP-2.8.0-py3-none-any.whl (17.7 MB)\n",
            "     ---------------------------------------- 0.0/17.7 MB ? eta -:--:--\n",
            "     ---------------------------------------- 0.1/17.7 MB 1.1 MB/s eta 0:00:16\n",
            "     ---------------------------------------- 0.2/17.7 MB 2.0 MB/s eta 0:00:09\n",
            "     - -------------------------------------- 0.5/17.7 MB 3.5 MB/s eta 0:00:05\n",
            "     - -------------------------------------- 0.8/17.7 MB 4.2 MB/s eta 0:00:05\n",
            "     --- ------------------------------------ 1.4/17.7 MB 5.7 MB/s eta 0:00:03\n",
            "     ---- ----------------------------------- 1.8/17.7 MB 6.5 MB/s eta 0:00:03\n",
            "     ----- ---------------------------------- 2.6/17.7 MB 7.9 MB/s eta 0:00:02\n",
            "     ------- -------------------------------- 3.3/17.7 MB 9.2 MB/s eta 0:00:02\n",
            "     --------- ------------------------------ 4.2/17.7 MB 10.4 MB/s eta 0:00:02\n",
            "     ------------ --------------------------- 5.4/17.7 MB 11.8 MB/s eta 0:00:02\n",
            "     -------------- ------------------------- 6.2/17.7 MB 12.1 MB/s eta 0:00:01\n",
            "     --------------- ------------------------ 6.8/17.7 MB 12.0 MB/s eta 0:00:01\n",
            "     ----------------- ---------------------- 7.7/17.7 MB 12.6 MB/s eta 0:00:01\n",
            "     -------------------- ------------------- 8.9/17.7 MB 13.6 MB/s eta 0:00:01\n",
            "     ---------------------- ----------------- 9.8/17.7 MB 14.3 MB/s eta 0:00:01\n",
            "     ------------------------ -------------- 11.0/17.7 MB 18.7 MB/s eta 0:00:01\n",
            "     -------------------------- ------------ 12.0/17.7 MB 19.9 MB/s eta 0:00:01\n",
            "     ---------------------------- ---------- 12.7/17.7 MB 20.5 MB/s eta 0:00:01\n",
            "     ---------------------------- ---------- 13.1/17.7 MB 19.8 MB/s eta 0:00:01\n",
            "     ------------------------------ -------- 14.0/17.7 MB 19.3 MB/s eta 0:00:01\n",
            "     ------------------------------- ------- 14.4/17.7 MB 18.7 MB/s eta 0:00:01\n",
            "     -------------------------------- ------ 14.9/17.7 MB 17.7 MB/s eta 0:00:01\n",
            "     ---------------------------------- ---- 15.6/17.7 MB 17.2 MB/s eta 0:00:01\n",
            "     ---------------------------------- ---- 15.8/17.7 MB 16.8 MB/s eta 0:00:01\n",
            "     ------------------------------------ -- 16.5/17.7 MB 16.4 MB/s eta 0:00:01\n",
            "     ------------------------------------- - 17.0/17.7 MB 16.0 MB/s eta 0:00:01\n",
            "     --------------------------------------  17.7/17.7 MB 15.2 MB/s eta 0:00:01\n",
            "     --------------------------------------  17.7/17.7 MB 15.2 MB/s eta 0:00:01\n",
            "     --------------------------------------  17.7/17.7 MB 15.2 MB/s eta 0:00:01\n",
            "     --------------------------------------  17.7/17.7 MB 15.2 MB/s eta 0:00:01\n",
            "     --------------------------------------- 17.7/17.7 MB 11.9 MB/s eta 0:00:00\n",
            "Installing collected packages: pulp\n",
            "Successfully installed pulp-2.8.0\n"
          ]
        },
        {
          "name": "stderr",
          "output_type": "stream",
          "text": [
            "\n",
            "[notice] A new release of pip is available: 23.0.1 -> 24.0\n",
            "[notice] To update, run: C:\\Users\\Welcome\\AppData\\Local\\Microsoft\\WindowsApps\\PythonSoftwareFoundation.Python.3.10_qbz5n2kfra8p0\\python.exe -m pip install --upgrade pip\n"
          ]
        }
      ],
      "source": [
        "!pip install pulp"
      ]
    },
    {
      "cell_type": "code",
      "execution_count": 2,
      "metadata": {
        "colab": {
          "base_uri": "https://localhost:8080/"
        },
        "id": "lOJwMeIDBpST",
        "outputId": "267a25a3-dfcb-46e2-b705-8f55acc20681"
      },
      "outputs": [],
      "source": [
        "from pulp import *\n",
        "\n",
        "# Nhập số lượng biến\n",
        "n = int(input(\"Nhập số lượng biến: \"))\n",
        "\n",
        "# Nhập tên biến\n",
        "variables = {}\n",
        "for i in range(n):\n",
        "    var_name = input(\"Nhập tên biến thứ \" + str(i+1) + \": \")\n",
        "    variables[var_name] = LpVariable(var_name, lowBound=0)\n",
        "\n",
        "# Nhập hàm mục tiêu\n",
        "while True:\n",
        "    obj = input(\"Nhập hàm mục tiêu (ví dụ: 3*x1 + 5*x2): \")\n",
        "    obj_type = input(\"Loại mục tiêu (min/max): \")\n",
        "    if obj_type in [\"min\", \"max\"]:\n",
        "        break\n",
        "    else:\n",
        "        print(\"Loại mục tiêu không hợp lệ. Vui lòng nhập lại.\")\n",
        "\n",
        "# Tạo bài toán\n",
        "if obj_type == \"min\":\n",
        "    prob = LpProblem(\"QHTT\", LpMinimize)\n",
        "else:\n",
        "    prob = LpProblem(\"QHTT\", LpMaximize)\n",
        "\n",
        "# Thêm hàm mục tiêu vào bài toán\n",
        "prob += eval(obj, globals(), {**variables, **locals()})\n",
        "\n",
        "# Nhập ràng buộc\n",
        "m = int(input(\"Nhập số lượng ràng buộc: \"))\n",
        "for i in range(m):\n",
        "    cons = input(\"Nhập ràng buộc thứ \" + str(i+1) + \" (ví dụ: x1 + x2 <= 100): \")\n",
        "    prob += eval(cons, globals(), {**variables, **locals()})\n",
        "\n",
        "# Giải bài toán\n",
        "prob.solve()\n",
        "# In kết quả\n",
        "print(\"Nghiệm bài toán:\")\n",
        "for v in prob.variables():\n",
        "    print(v.name, \"=\", round(v.varValue, 4))\n",
        "\n",
        "print(\"Giá trị tối ưu:\", round(value(prob.objective), 4))"
      ]
    }
  ],
  "metadata": {
    "colab": {
      "provenance": []
    },
    "kernelspec": {
      "display_name": "Python 3",
      "name": "python3"
    },
    "language_info": {
      "codemirror_mode": {
        "name": "ipython",
        "version": 3
      },
      "file_extension": ".py",
      "mimetype": "text/x-python",
      "name": "python",
      "nbconvert_exporter": "python",
      "pygments_lexer": "ipython3",
      "version": "3.10.11"
    }
  },
  "nbformat": 4,
  "nbformat_minor": 0
}
