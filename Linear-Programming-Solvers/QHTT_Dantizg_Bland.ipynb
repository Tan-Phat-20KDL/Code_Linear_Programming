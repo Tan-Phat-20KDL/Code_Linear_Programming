{
 "cells": [
  {
   "cell_type": "code",
   "execution_count": 19,
   "id": "8cea7367",
   "metadata": {},
   "outputs": [],
   "source": [
    "import numpy as np\n",
    "import pandas as pd"
   ]
  },
  {
   "cell_type": "code",
   "execution_count": 92,
   "id": "9ba913e5",
   "metadata": {},
   "outputs": [],
   "source": [
    "# Vo so nghiem\n",
    "array_5 = np.array([[1,1,0,0,0,0,0],\n",
    "                    [1,2,0,1,0,0,5],\n",
    "                    [1,1,-1,0,1,0,2],\n",
    "                    [7,3,-5,0,0,1,20]])"
   ]
  },
  {
   "cell_type": "code",
   "execution_count": 51,
   "id": "45a1fa32",
   "metadata": {},
   "outputs": [],
   "source": [
    "def is_basic(column): # kiem tra biến cơ sở\n",
    "    return sum(column) == 1 and len([c for c in column if c == 0]) == len(column) - 1\n",
    "#trong \n",
    "#nếu tổng hệ số của một cột bằng 1 và len của index c trong column bằng 0 và bằng với len(column) - 1"
   ]
  },
  {
   "cell_type": "code",
   "execution_count": 85,
   "id": "a27079ee",
   "metadata": {},
   "outputs": [],
   "source": [
    "def dantzig(array):\n",
    "        array = np.array(array, dtype=np.float64) #dataframe thành array\n",
    "        pivot_row = -1 # khởi tạo biến, dùng để sử dụng theo dõi hàng pivot\n",
    "        pivot_col = -1 # và cột pivot\n",
    "        while array[0, :-1].min() < 0: # duyệt giá trị hàm mục tiêu z có giá trị nhỏ nhất âm hay không, nếu có thì tiếp tục vòng lặp\n",
    "            print('pivot_vot:',np.argmin(array[0, :-1]))\n",
    "            pivot_col = np.argmin(array[0, :-1]) # gán vị trí của giá trị nhỏ nhất trong hàm mục tiêu vào pivot_col tìm biến vào\n",
    "            if (array[1:, pivot_col] <= 0).all(): # tìm biến ra, nếu các giá trị trong cột tương ứng với pivot_col(trừ hàng đầu tiên) nhỏ hơn hoặc bằng 0\n",
    "                return -1, array # trả về -1 ( ứng với trường hợp không giới nội)\n",
    "            else:\n",
    "                ratios = array[1:, -1] / array[1:, pivot_col] # lấy hệ số b tương ứng với cột (array[1:-1]) chia cho giá trị trong cột pivot_col để tìm biến ra.\n",
    "                ratios[ratios <= 0] = np.inf # gán giá trị ratios âm hoặc nhỏ hơn 0 vào giá trị inf để loại trừ nó và khỏi xem xét\n",
    "                pivot_row = np.argmin(ratios) + 1 # vị trí dòng có hệ số ratios nhỏ nhất(+1 vì bỏ dòng đầu tiên )\n",
    "                print('pivot_row:',np.argmin(ratios) + 1)\n",
    "            array[pivot_row, :] /= array[pivot_row, pivot_col] # biến đổi để giá trị ở array[pivot_row, pivot_col] = 1, và giá trị khác trong pivot_col = 0.\n",
    "            #pivot column lúc này trở thành biến cơ sở\n",
    "            for i in range(len(array)): # biến đổi các biến lại\n",
    "                if i != pivot_row:\n",
    "                    array[i, :] -= array[i, pivot_col] * array[pivot_row, :] \n",
    "            display(pd.DataFrame(array))\n",
    "        return 1, array"
   ]
  },
  {
   "cell_type": "code",
   "execution_count": 86,
   "id": "30114b12",
   "metadata": {},
   "outputs": [],
   "source": [
    "#Hàm Bland tương tự như hàm Dantzig \n",
    "def Bland(array):\n",
    "        array = np.array(array, dtype=np.float64) \n",
    "        pivot_row = -1 \n",
    "        pivot_col = -1 \n",
    "        while array[0, :-1].min() < 0: \n",
    "            # gán vị trí có giá trị âm ưu tiên ( x1 > x2 > ...> w1 > w2> ....) trong hàm mục tiêu vào pivot_col tìm biến vào\n",
    "            pivot_col = np.where(array[0, :-1] < 0)[0][0] \n",
    "            if (array[1:, pivot_col] <= 0).all(): \n",
    "                return -1, array\n",
    "            else:\n",
    "                ratios = array[1:, -1] / array[1:, pivot_col] \n",
    "                ratios[ratios <= 0] = np.inf \n",
    "                pivot_row = np.argmin(ratios) + 1 \n",
    "            array[pivot_row, :] /= array[pivot_row, pivot_col] \n",
    "            \n",
    "            for i in range(len(array)): \n",
    "                if i != pivot_row:\n",
    "                    array[i, :] -= array[i, pivot_col] * array[pivot_row, :] \n",
    "        return 1, array"
   ]
  },
  {
   "cell_type": "code",
   "execution_count": 87,
   "id": "3f482303",
   "metadata": {},
   "outputs": [],
   "source": [
    "def Output(array):\n",
    "        row, col = array.shape\n",
    "        obj = 0\n",
    "        x = 0\n",
    "        check, array = dantzig(array)\n",
    "        #print(array)\n",
    "        if (check == -1):\n",
    "            print(\"Bai toan khong gioi noi.\")\n",
    "            obj = np.inf\n",
    "            x = (\"Khong co nghiem \")\n",
    "        else:\n",
    "            obj = array[0,-1]\n",
    "            for i in range(col - 1):\n",
    "                # kiểm tra nếu không phải là biến cơ sở và cái column còn lại tồn tại 1 index có giá trị = 0 \n",
    "                if (not is_basic(array[:,i]) and (array[:,i] == 0).any()):\n",
    "                    print(\"Bai toan vo so nghiem.\")\n",
    "                    x = (\" Vo so nghiem voi dieu kien: \")\n",
    "                    break\n",
    "                else:\n",
    "                    solutions = np.zeros(col-1)\n",
    "                    for i in range(col-1):\n",
    "                        if is_basic(array[:,i]):\n",
    "                            for j in range(1,row):\n",
    "                                if array[j,i] == 1:\n",
    "                                    solutions[i] = array[j,-1]\n",
    "                            x = solutions[:col-row]\n",
    "        array = pd.DataFrame(array)\n",
    "        return -obj, x, array"
   ]
  },
  {
   "cell_type": "code",
   "execution_count": 90,
   "id": "d1129fb0",
   "metadata": {},
   "outputs": [
    {
     "name": "stdout",
     "output_type": "stream",
     "text": [
      "Bai toan vo so nghiem.\n",
      "Gia tri toi uu z:  -0.0\n",
      "Nghiem bai toan:  [0. 0. 0.]\n"
     ]
    }
   ],
   "source": [
    "obj, x , array = Output(array_5)\n",
    "print(\"Gia tri toi uu z: \", obj)\n",
    "print(\"Nghiem bai toan: \",x)"
   ]
  }
 ],
 "metadata": {
  "kernelspec": {
   "display_name": "Python 3 (ipykernel)",
   "language": "python",
   "name": "python3"
  },
  "language_info": {
   "codemirror_mode": {
    "name": "ipython",
    "version": 3
   },
   "file_extension": ".py",
   "mimetype": "text/x-python",
   "name": "python",
   "nbconvert_exporter": "python",
   "pygments_lexer": "ipython3",
   "version": "3.9.7"
  }
 },
 "nbformat": 4,
 "nbformat_minor": 5
}
