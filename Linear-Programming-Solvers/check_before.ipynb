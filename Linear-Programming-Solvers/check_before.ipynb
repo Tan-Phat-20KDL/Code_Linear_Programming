{
 "cells": [
  {
   "attachments": {},
   "cell_type": "markdown",
   "metadata": {},
   "source": [
    "# Nhap cac thu vien"
   ]
  },
  {
   "cell_type": "code",
   "execution_count": 208,
   "metadata": {},
   "outputs": [],
   "source": [
    "import pandas as pd\n",
    "import numpy as np"
   ]
  },
  {
   "attachments": {},
   "cell_type": "markdown",
   "metadata": {},
   "source": [
    "# Nhap cac phan tu dau vao"
   ]
  },
  {
   "cell_type": "code",
   "execution_count": 209,
   "metadata": {},
   "outputs": [
    {
     "data": {
      "text/html": [
       "<div>\n",
       "<style scoped>\n",
       "    .dataframe tbody tr th:only-of-type {\n",
       "        vertical-align: middle;\n",
       "    }\n",
       "\n",
       "    .dataframe tbody tr th {\n",
       "        vertical-align: top;\n",
       "    }\n",
       "\n",
       "    .dataframe thead th {\n",
       "        text-align: right;\n",
       "    }\n",
       "</style>\n",
       "<table border=\"1\" class=\"dataframe\">\n",
       "  <thead>\n",
       "    <tr style=\"text-align: right;\">\n",
       "      <th></th>\n",
       "      <th>x1</th>\n",
       "      <th>x2</th>\n",
       "      <th>x3</th>\n",
       "      <th>w1</th>\n",
       "      <th>w2</th>\n",
       "      <th>HeSo</th>\n",
       "    </tr>\n",
       "  </thead>\n",
       "  <tbody>\n",
       "    <tr>\n",
       "      <th>0</th>\n",
       "      <td>-2</td>\n",
       "      <td>6</td>\n",
       "      <td>0</td>\n",
       "      <td>0</td>\n",
       "      <td>0</td>\n",
       "      <td>0</td>\n",
       "    </tr>\n",
       "    <tr>\n",
       "      <th>1</th>\n",
       "      <td>-1</td>\n",
       "      <td>-1</td>\n",
       "      <td>-1</td>\n",
       "      <td>1</td>\n",
       "      <td>0</td>\n",
       "      <td>-2</td>\n",
       "    </tr>\n",
       "    <tr>\n",
       "      <th>2</th>\n",
       "      <td>2</td>\n",
       "      <td>-1</td>\n",
       "      <td>1</td>\n",
       "      <td>0</td>\n",
       "      <td>1</td>\n",
       "      <td>1</td>\n",
       "    </tr>\n",
       "  </tbody>\n",
       "</table>\n",
       "</div>"
      ],
      "text/plain": [
       "   x1  x2  x3  w1  w2  HeSo\n",
       "0  -2   6   0   0   0     0\n",
       "1  -1  -1  -1   1   0    -2\n",
       "2   2  -1   1   0   1     1"
      ]
     },
     "execution_count": 209,
     "metadata": {},
     "output_type": "execute_result"
    }
   ],
   "source": [
    "\"\"\" dict_columns = {\n",
    "    'x1':[-1, -1, -1, 1],\n",
    "    'x2':[-3, -1, 1, 2],\n",
    "    'w1':[0, 1, 0, 0],\n",
    "    'w2':[0, 0, 1, 0],\n",
    "    'w3':[0, 0, 0, 1],\n",
    "    'HeSo':[0, -3, -1, 4]\n",
    "} \"\"\"\n",
    "\n",
    "dict_columns = {\n",
    "    'x1':[-2, -1, 2],\n",
    "    'x2':[6, -1, -1],\n",
    "    'x3':[0, -1, 1],\n",
    "    'w1':[0, 1, 0],\n",
    "    'w2':[0, 0, 1],\n",
    "    'HeSo':[0, -2, 1]\n",
    "}\n",
    "\n",
    "\"\"\" dict_columns = {\n",
    "    'x1':[-1, -1, -1, 1],\n",
    "    'x2':[-3, -1, 1, 2],\n",
    "    'w1':[0, 1, 0, 0],\n",
    "    'w2':[0, 0, 1, 0],\n",
    "    'w3':[0, 0, 0, 1],\n",
    "    'HeSo':[0, -3, -1, 2]\n",
    "} \"\"\"\n",
    "\n",
    "data = pd.DataFrame(dict_columns)\n",
    "data"
   ]
  },
  {
   "attachments": {},
   "cell_type": "markdown",
   "metadata": {},
   "source": [
    "# Dua ve bai toan bo tro"
   ]
  },
  {
   "cell_type": "code",
   "execution_count": 210,
   "metadata": {},
   "outputs": [],
   "source": [
    "# Ham xay dung bai toan bo tro dua tren bai toan goc\n",
    "def SupplementaryMath(data, cols_data, rows_data):\n",
    "    df = data.copy()\n",
    "    # Cho he so cua cac phan tu o ham muc tieu bang 0\n",
    "    for i in range(0, cols_data):\n",
    "        df.iloc[[0], [i]] = 0\n",
    "        \n",
    "    # Tao cot x0 \n",
    "    x0_values = [1] # Cho he so cua cac phan tu dau tien bang 1\n",
    "    for i in range(1, rows_data): # Cho he so cua cac phan tu con lai bang -1\n",
    "        x0_values.append(-1) \n",
    "    \n",
    "    # Them cot x0 vao data frame\n",
    "    df.insert(cols_data-1, 'x0', x0_values)\n",
    "    \n",
    "    return df"
   ]
  },
  {
   "attachments": {},
   "cell_type": "markdown",
   "metadata": {},
   "source": [
    "# Pha 1:"
   ]
  },
  {
   "cell_type": "code",
   "execution_count": 211,
   "metadata": {},
   "outputs": [],
   "source": [
    "# Ham tim vi tri cua phan tu x0\n",
    "def Find_x0_Index(df):\n",
    "    features_name = list(df.columns)\n",
    "    x0_index = features_name.index('x0')\n",
    "    return x0_index"
   ]
  },
  {
   "cell_type": "code",
   "execution_count": 212,
   "metadata": {},
   "outputs": [],
   "source": [
    "# Ham chuyen -0.0 -> +0.0\n",
    "def ConvertNegativeZero(matrix):\n",
    "    matrix += 0.0"
   ]
  },
  {
   "cell_type": "code",
   "execution_count": 213,
   "metadata": {},
   "outputs": [],
   "source": [
    "# Ham tim phan tu cua bien vao\n",
    "def FindInputIndex(array, cols, rows):\n",
    "    \n",
    "    min = array[0]\n",
    "    min_index = 0\n",
    "    for i in range(1, cols):\n",
    "        if array[i] < min:\n",
    "            min = array[i]\n",
    "            min_index = i\n",
    "        \n",
    "    return min_index"
   ]
  },
  {
   "cell_type": "code",
   "execution_count": 214,
   "metadata": {},
   "outputs": [],
   "source": [
    "# Ham xoay\n",
    "def Rotate(matrix, cols, rows, index):\n",
    "    # Tim bien ra\n",
    "    min = matrix[1][-1]/abs(matrix[1][index])\n",
    "    row_min_index = 1\n",
    "\n",
    "    for i in range(2, rows):\n",
    "        # Dung bang nen kiem tra cac bien duong de xet bien ra co so\n",
    "        if matrix[i][index] > 0:\n",
    "            if matrix[i][-1]/abs(matrix[i][index]) < min:\n",
    "                min = matrix[i][-1]/abs(matrix[i][index])\n",
    "                row_min_index = i\n",
    "\n",
    "    for i in range(0, rows):\n",
    "        # Neu i dang xet khong la dong chua bien co gia tri nho nhat va gia tri cua bien khac 0\n",
    "        if i != row_min_index and matrix[i][index] != 0:\n",
    "            coef = matrix[i][index]/matrix[row_min_index][index]\n",
    "            matrix[i][:] -= coef * matrix[row_min_index][:]\n",
    "        # Neu i dang la dong chua bien co gia tri nho nhat va gia tri cua bien khac 0\n",
    "        elif i == row_min_index and matrix[i][index] != 0:\n",
    "            matrix[i][:] /= matrix[i][index]\n",
    "            \n",
    "    ConvertNegativeZero(matrix)\n",
    "    \n",
    "    return matrix        "
   ]
  },
  {
   "cell_type": "code",
   "execution_count": 215,
   "metadata": {},
   "outputs": [],
   "source": [
    "# Ham kiem tra cac dieu kien\n",
    "def CheckTheConditions(df, matrix, cols, rows, x0_index):\n",
    "    # Xoay lan dau tien doi voi x0 > 0\n",
    "    matrix = Rotate(matrix, cols, rows, x0_index)\n",
    "    \n",
    "    while True:\n",
    "        # Neu cac phan tu khac deu co he so bang 0 va x0 quay tro lai la bien chua co so\n",
    "        if np.all(matrix[0][:-2] == 0) == True and matrix[0][-1] == 0 and matrix[0][x0_index] == 1:\n",
    "            print('Switch to Phase 2.') # Chuyen qua pha 2\n",
    "            check = 2\n",
    "            break\n",
    "        # Neu cac phan tu khac deu co he so lon hon hoac bang 0 va x0 khong quay tro lai la bien co so\n",
    "        elif np.all(matrix[0][:-2] >= 0) == True and matrix[0][x0_index] == 0:\n",
    "            print('No solution.') # Vo nghiem\n",
    "            check = 0\n",
    "            break\n",
    "        # Truong hop con lai tim bien vao co so, tiep tuc xoay\n",
    "        else:\n",
    "            epsilon = matrix[0][:-2]\n",
    "            input_index = FindInputIndex(epsilon, cols-2, rows)\n",
    "            matrix = Rotate(matrix, cols, rows, input_index)\n",
    "            \n",
    "    return (matrix, check)"
   ]
  },
  {
   "attachments": {},
   "cell_type": "markdown",
   "metadata": {},
   "source": [
    "### Tim nhung bien co so"
   ]
  },
  {
   "cell_type": "code",
   "execution_count": 216,
   "metadata": {},
   "outputs": [],
   "source": [
    "# Ham tim nhung bien co so\n",
    "def FindBasicVariables(matrix, cols, rows):\n",
    "    # Tao danh sach chua vi tri cua bien co so trong cot va dong chua bien co so\n",
    "    basic_variables_index = []\n",
    "    \n",
    "    for i in range(0, cols-1):\n",
    "        c0 = matrix[:, i] == 0\n",
    "        count0 = np.count_nonzero(c0 == True)\n",
    "        c1 = matrix[:, i] == 1\n",
    "        count1 = np.count_nonzero(c1 == True)\n",
    "        \n",
    "        # Bien co so la nhung bien ma cot cua no chua 1 gia tri 1 va cac gia tri con lai bang 0\n",
    "        if count0 + count1 == rows:\n",
    "            row_index = np.where(c1 == True)\n",
    "            basic_variables_index.append((i, row_index[0][0]))\n",
    "            \n",
    "    return basic_variables_index"
   ]
  },
  {
   "attachments": {},
   "cell_type": "markdown",
   "metadata": {},
   "source": [
    "### Dua ve bai toan chap nhan duoc"
   ]
  },
  {
   "cell_type": "code",
   "execution_count": 217,
   "metadata": {},
   "outputs": [],
   "source": [
    "# Ham tao ra z moi\n",
    "def New_z(data, matrix_data, matrix, cols_data, rows_data, cols, rows):\n",
    "    # Lay cac he so cua ham muc tieu o bai toan goc va bai toan bo tro\n",
    "    z = matrix_data[0][:]\n",
    "    z_new = matrix[0][:]\n",
    "    \n",
    "    # Tim cac bien co so sau khi giai bai toan bo tro\n",
    "    basic_variables = FindBasicVariables(matrix, cols, rows)\n",
    "    bv_index = [] # Tao danh sach chua vi tri cua cac bien co so trong moi cot\n",
    "    bv_rows = [] # Tao danh sach chua dong chua bien co so trong mot cot\n",
    "    # Them cac bien vi tri cua cac bien co so trong moi cot va dong cua no vao hai danh sach\n",
    "    for i in range(0, len(basic_variables)):\n",
    "        bv_index.append(basic_variables[i][0])\n",
    "        bv_rows.append(basic_variables[i][1])\n",
    "    \n",
    "    z_basic_variables_index = [] # Tao danh sach chua vi tri cua cac bien co so trong moi cot\n",
    "    z_non_basic_variables_index = [] # Tao danh sach chua vi tri cua cac bien khong co so trong moi cot\n",
    "    # Tien hanh them cac bien nay vao hai danh sach\n",
    "    for i in range(0, cols_data-1):\n",
    "        if i in bv_index and z[i] != 0: # Kiem tra neu bien nay la bien co so va he so cua no o ham muc tieu goc khac 0\n",
    "            z_basic_variables_index.append(i)\n",
    "        elif i not in bv_index and z[i] != 0: # Kiem tra neu bien nay la bien khong co so va he so cua no o ham muc tieu goc khac 0\n",
    "            z_non_basic_variables_index.append(i)\n",
    "    \n",
    "    # Chuyen doi z ve z_new ung voi bai toan chap nhan duoc\n",
    "    for i in range(0, cols-1):\n",
    "        # Neu i dang xet la bien co so o bai toan bo tro\n",
    "        if i in z_basic_variables_index:\n",
    "            temp_i = bv_rows[i]\n",
    "            temp = matrix[temp_i][:].copy()\n",
    "            temp[i] = 0\n",
    "            temp[i+1:] *= -1\n",
    "            z_new += z[i] * temp\n",
    "        # Neu i dang xet la bien khong co so o bai toan bo tro\n",
    "        elif i in z_non_basic_variables_index:\n",
    "            temp = np.zeros(cols_data)\n",
    "            temp[i] = 1\n",
    "            z_new += z[i] * temp\n",
    "    \n",
    "    return z_new"
   ]
  },
  {
   "cell_type": "code",
   "execution_count": 218,
   "metadata": {},
   "outputs": [],
   "source": [
    "# Ham tao ra bang chap nhan duoc\n",
    "def AcceptableTable(data, matrix_data, df, matrix, cols_data, rows_data, cols, rows):\n",
    "    # Tim z_new va them z_new vao ma tran\n",
    "    z_new = New_z(data, matrix_data, matrix, cols_data, rows_data, cols, rows)\n",
    "    matrix[0][:] = z_new\n",
    "\n",
    "    ConvertNegativeZero(matrix)\n",
    "\n",
    "    # Thay doi noi dung cho data frame goc\n",
    "    features_name = list(df.columns)\n",
    "    df = pd.DataFrame(matrix, columns=features_name)\n",
    "        \n",
    "    return df # Tra ve data frame chap nhan duoc"
   ]
  },
  {
   "attachments": {},
   "cell_type": "markdown",
   "metadata": {},
   "source": [
    "### Thuc thi pha 1"
   ]
  },
  {
   "cell_type": "code",
   "execution_count": 219,
   "metadata": {},
   "outputs": [],
   "source": [
    "# Ham thuc thi pha 1\n",
    "def Phase1(data, matrix_data, df, matrix, cols_data, rows_data, cols, rows, x0_index):\n",
    "    (matrix, check) = CheckTheConditions(df, matrix, cols, rows, x0_index)\n",
    "    if check == 2:\n",
    "        features_name = list(df.columns)\n",
    "        df = pd.DataFrame(matrix, columns=features_name)\n",
    "        df = df.drop(columns='x0')\n",
    "        matrix = np.delete(matrix, np.s_[x0_index:x0_index+1], axis=1) \n",
    "        \n",
    "        df = AcceptableTable(data, matrix_data, df, matrix, cols_data, rows_data, cols, rows)\n",
    "        return df"
   ]
  },
  {
   "cell_type": "code",
   "execution_count": 220,
   "metadata": {},
   "outputs": [
    {
     "name": "stdout",
     "output_type": "stream",
     "text": [
      "Switch to Phase 2.\n"
     ]
    },
    {
     "data": {
      "text/html": [
       "<div>\n",
       "<style scoped>\n",
       "    .dataframe tbody tr th:only-of-type {\n",
       "        vertical-align: middle;\n",
       "    }\n",
       "\n",
       "    .dataframe tbody tr th {\n",
       "        vertical-align: top;\n",
       "    }\n",
       "\n",
       "    .dataframe thead th {\n",
       "        text-align: right;\n",
       "    }\n",
       "</style>\n",
       "<table border=\"1\" class=\"dataframe\">\n",
       "  <thead>\n",
       "    <tr style=\"text-align: right;\">\n",
       "      <th></th>\n",
       "      <th>x1</th>\n",
       "      <th>x2</th>\n",
       "      <th>x3</th>\n",
       "      <th>w1</th>\n",
       "      <th>w2</th>\n",
       "      <th>HeSo</th>\n",
       "    </tr>\n",
       "  </thead>\n",
       "  <tbody>\n",
       "    <tr>\n",
       "      <th>0</th>\n",
       "      <td>0.0</td>\n",
       "      <td>0.0</td>\n",
       "      <td>-0.666667</td>\n",
       "      <td>3.333333</td>\n",
       "      <td>2.666667</td>\n",
       "      <td>-4.0</td>\n",
       "    </tr>\n",
       "    <tr>\n",
       "      <th>1</th>\n",
       "      <td>0.0</td>\n",
       "      <td>1.0</td>\n",
       "      <td>0.333333</td>\n",
       "      <td>-0.666667</td>\n",
       "      <td>-0.333333</td>\n",
       "      <td>1.0</td>\n",
       "    </tr>\n",
       "    <tr>\n",
       "      <th>2</th>\n",
       "      <td>1.0</td>\n",
       "      <td>0.0</td>\n",
       "      <td>0.666667</td>\n",
       "      <td>-0.333333</td>\n",
       "      <td>0.333333</td>\n",
       "      <td>1.0</td>\n",
       "    </tr>\n",
       "  </tbody>\n",
       "</table>\n",
       "</div>"
      ],
      "text/plain": [
       "    x1   x2        x3        w1        w2  HeSo\n",
       "0  0.0  0.0 -0.666667  3.333333  2.666667  -4.0\n",
       "1  0.0  1.0  0.333333 -0.666667 -0.333333   1.0\n",
       "2  1.0  0.0  0.666667 -0.333333  0.333333   1.0"
      ]
     },
     "execution_count": 220,
     "metadata": {},
     "output_type": "execute_result"
    }
   ],
   "source": [
    "#Lưu các thông số dòng và cột của data\n",
    "rows_data, cols_data = data.shape\n",
    "matrix_data = np.array(data, dtype=float)\n",
    "#Đưa về bài toán bổ trợ\n",
    "df = SupplementaryMath(data, cols_data, rows_data)\n",
    "#Lưu các thông số dòng và cột của df\n",
    "rows, cols = df.shape\n",
    "matrix = np.array(df, dtype=float)\n",
    "\n",
    "#Pha 1\n",
    "x0_index = Find_x0_Index(df)\n",
    "output = Phase1(data, matrix_data, df, matrix, cols_data, rows_data, cols, rows, x0_index)\n",
    "output"
   ]
  },
  {
   "attachments": {},
   "cell_type": "markdown",
   "metadata": {},
   "source": [
    "# Pha 2:"
   ]
  },
  {
   "attachments": {},
   "cell_type": "markdown",
   "metadata": {},
   "source": [
    "def two_Phase(data):\n",
    "\n",
    "    #Lưu các thông số dòng và cột của data\n",
    "    rows_data, cols_data = data.shape\n",
    "    matrix_data = np.array(data, dtype=float)\n",
    "\n",
    "    #Đưa về bài toán bổ trợ\n",
    "    df = SupplementaryMath(data)\n",
    "\n",
    "    #Lưu các thông số dòng và cột của df\n",
    "    rows, cols = df.shape\n",
    "    matrix = np.array(df, dtype=float)\n",
    "    \n",
    "    #Pha 1\n",
    "    x0_index = Find_x0_Index(df)\n",
    "    check, output = Phase1(data, matrix_data, df, matrix, rows, cols, x0_index)\n",
    "    #Nếu Pha 1 trả về check == 2\n",
    "    if check == 2:\n",
    "        array = []\n",
    "        for i in range(np.shape(output)[0]):\n",
    "            array.append([str(output.values[i,j]) for j in range(np.shape(output)[1])])\n",
    "        check, output = dantzig(array)\n",
    "    return check, output"
   ]
  }
 ],
 "metadata": {
  "kernelspec": {
   "display_name": "Python 3",
   "language": "python",
   "name": "python3"
  },
  "language_info": {
   "codemirror_mode": {
    "name": "ipython",
    "version": 3
   },
   "file_extension": ".py",
   "mimetype": "text/x-python",
   "name": "python",
   "nbconvert_exporter": "python",
   "pygments_lexer": "ipython3",
   "version": "3.10.8"
  },
  "orig_nbformat": 4
 },
 "nbformat": 4,
 "nbformat_minor": 2
}
