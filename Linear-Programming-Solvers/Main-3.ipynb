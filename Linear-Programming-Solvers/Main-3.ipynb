{
 "cells": [
  {
   "cell_type": "code",
   "execution_count": 1,
   "metadata": {},
   "outputs": [],
   "source": [
    "import numpy as np\n",
    "import pandas as pd\n",
    "import warnings"
   ]
  },
  {
   "cell_type": "code",
   "execution_count": 2,
   "metadata": {},
   "outputs": [],
   "source": [
    "warnings.filterwarnings(\"ignore\")"
   ]
  },
  {
   "attachments": {},
   "cell_type": "markdown",
   "metadata": {},
   "source": [
    "# Chương trình nhập liệu từ bàn phím"
   ]
  },
  {
   "cell_type": "code",
   "execution_count": 3,
   "metadata": {},
   "outputs": [],
   "source": [
    "#MinMax = int(input(\"Nhập min/max của hàm mục tiêu (0 là min, 1 là max): \"))\n",
    "#variables = int(input(\"Nhập số lượng biến: \"))\n",
    "#quantity = int(input(\"Nhập số lượng ràng buộc: \"))"
   ]
  },
  {
   "attachments": {},
   "cell_type": "markdown",
   "metadata": {},
   "source": [
    "# Hàm mục tiêu"
   ]
  },
  {
   "cell_type": "code",
   "execution_count": 4,
   "metadata": {},
   "outputs": [],
   "source": [
    "def Goal_func(MinMax, variables):\n",
    "    arrayObj_func = {}                                                     # Khởi tạo arrayObj_func , type = dict{}. Mục đích là để lưu các hệ số của từng biến\n",
    "    print(\"HÀM MỤC TIÊU\")                                                                   # trong hàm mục tiêu\n",
    "    print(\"Nhập các hệ số của hàm mục tiêu: \")\n",
    "    for i in range(1, variables + 1):                                      # vòng lặp để nhập hệ số của các biến trong hàm mục tiêu\n",
    "        arrayObj_func['x' + str(i)] = float(input('\\tHệ số của x' + str(i) + ' của hàm mục tiêu: '))   # lưu các hệ số đó vào arrayObj_func, với mỗi xi tương ứng. vđ {'x1': 1, 'x2': 3}\n",
    "\n",
    "    #Tiếp theo là in ra hàm mục tiêu\n",
    "    print(\"Hàm mục tiêu:   \", end='')                                        \n",
    "    if MinMax == 0:\n",
    "        print('Min ', end='')\n",
    "    else:\n",
    "        print('Max ', end='')\n",
    "    for i in range(1, variables + 1):\n",
    "        if i != 1 and arrayObj_func['x' + str(i)] > 0:                     # Nếu hệ số không phải là của x1 và hệ số dương thì in thêm dấu '+' trước hệ số\n",
    "            print(' + ', end='')\n",
    "        else:\n",
    "            print(' ', end='')                                             # Nếu hệ số là của x1 và hệ số âm thì chỉ cần thêm vào 1 khoảng trống trước hệ số\n",
    "        print(str(arrayObj_func['x' + str(i)]) + '*x' + str(i), end='')    # In ra giá trị của hệ số\n",
    "        \n",
    "    return arrayObj_func"
   ]
  },
  {
   "attachments": {},
   "cell_type": "markdown",
   "metadata": {},
   "source": [
    "## Các ràng buộc"
   ]
  },
  {
   "cell_type": "code",
   "execution_count": 5,
   "metadata": {},
   "outputs": [],
   "source": [
    "def constraints(variables, quantity):\n",
    "    arrayQuantity = {}                                                    # Khởi tạo arrayObj_func , type = dict{}. Mục đích là để lưu các hệ số của từng biến\n",
    "    print(\"\\n\\nCÁC RÀNG BUỘC BIẾN\")                                                                  # trong các ràng buộc\n",
    "    for i in range(1, variables + 1):\n",
    "        arrayQuantity['x' + str(i)] = [0 for j in range(quantity)]        # Cách làm tương tự như hàm mục tiêu, nhưng đầu tiên sẽ khởi tạo các hệ số là 0 trước\n",
    "\n",
    "    arrayQuantity['limited'] = [0 for j in range(quantity)]               # limited sẽ lưu các ràng buộc ≤, = và ≥\n",
    "    arrayQuantity['HeSo'] = [0 for j in range(quantity)]                  # HeSo sẽ lưu các giới hạn của ràng buộc (tức bi trong QHTT)\n",
    "     \n",
    "    print(\"Nhập các hệ số của các ràng buộc và giới hạn của nó: \")\n",
    "    for i in range(quantity):                                             #Khởi tạo vòng lặp để nhập các giá trị cần thiết cho ràng buộc\n",
    "        print(\"Ràng buộc thứ \" + str(i + 1))\n",
    "        for j in range(1, variables + 1):                                 #Khởi tạo vòng lặp để nhập từng hệ số của biến trong từng ràng buộc\n",
    "            arrayQuantity['x' + str(j)][i] = float(input('\\tHệ số của x' + str(j) + ' của ràng buộc thứ ' + str(i+1) + ': '))       #Nhập hệ số từng biến\n",
    "\n",
    "        arrayQuantity['limited'][i] = int(input('\\tNhập vào ràng buộc ( ≤ : 0, ≥ : 1, = : 2): '))    #nhập vào ràng buộc ≤, = và ≥\n",
    "        arrayQuantity['HeSo'][i] = int(input('\\tNhập vào giới hạn của ràng buộc: '))          #nhập vào giới hạn của ràng buộc\n",
    "    \n",
    "    return arrayQuantity\n"
   ]
  },
  {
   "cell_type": "code",
   "execution_count": 6,
   "metadata": {},
   "outputs": [],
   "source": [
    "def show_contraints(arrayQuantity, quantity): \n",
    "    #In ra các ràng buộc để người dùng kiểm tra lại\n",
    "    print(\"Các ràng buộc biến vừa nhập: \")                                                 \n",
    "    for i in range(quantity):\n",
    "        for j in arrayQuantity:\n",
    "            if j != 'x1' and j != 'limited' and j != 'HeSo' and arrayQuantity[j][i] > 0:\n",
    "                print('  +', end='')\n",
    "                print(str(arrayQuantity[j][i]) + '*' + str(j), end='')\n",
    "            elif j == 'limited':\n",
    "                if arrayQuantity[j][i] == 0:\n",
    "                    arrayQuantity[j][i] = '≤'\n",
    "                elif arrayQuantity[j][i] == 1:\n",
    "                    arrayQuantity[j][i] = '≥'\n",
    "                elif arrayQuantity[j][i] == 2:\n",
    "                    arrayQuantity[j][i] = '='\n",
    "                print(\" \",arrayQuantity[j][i], end='')\n",
    "            elif j == 'HeSo':\n",
    "                if arrayQuantity[j][i] > 0:\n",
    "                    print(end=' ')\n",
    "                print(' ', str(arrayQuantity[j][i]), end='')\n",
    "            else:\n",
    "                if j == 'x1' and arrayQuantity[j][i] > 0:\n",
    "                    print(end=' ')\n",
    "                print(' ',str(arrayQuantity[j][i]) + '*' + str(j), end='')\n",
    "        print()"
   ]
  },
  {
   "attachments": {},
   "cell_type": "markdown",
   "metadata": {},
   "source": [
    "### Ràng buộc từng biến, ≤ 0, ≥ 0 hay tự do"
   ]
  },
  {
   "cell_type": "code",
   "execution_count": 7,
   "metadata": {},
   "outputs": [],
   "source": [
    "def constraint_for_variables(variables):\n",
    "    #Nhập vào ràng buộc của từng biến\n",
    "    print(\"\\nRÀNG BUỘC DẤU\")\n",
    "    print(\"Nhập ràng buộc dấu của từng biến: \")\n",
    "    arrayVariables = {}                                                           #Khởi tạo arrayVariables type dict{}, lưu các ràng buộc của từng biến\n",
    "    for i in range(1, variables + 1):                                             #dict sẽ có dạng ví dụ như sau: arrayVariables = {'x1': 0, 'x2': 1}\n",
    "                                                                            # Tương ứng với các giá trị 0, 1, 2 sẽ là ≤ 0, ≥ 0, tự do\n",
    "        arrayVariables['x' + str(i)] = int(input('\\tBiến ' + 'x ' + str(i) + ' (x ≤ 0 : 0;  x ≥ 0 : 1; biến tự do : 2) :'))\n",
    "\n",
    "    print('Các ràng buộc của từng biến là:')\n",
    "    for i in arrayVariables:\n",
    "        if arrayVariables[i] == 0:\n",
    "            print('\\t' + i + ' ≤ 0')\n",
    "        elif arrayVariables[i] == 1:\n",
    "            print('\\t' + i + ' ≥ 0')\n",
    "        else:\n",
    "            print('\\t' + i + ' tự do')\n",
    "            \n",
    "    return arrayVariables"
   ]
  },
  {
   "cell_type": "code",
   "execution_count": 8,
   "metadata": {},
   "outputs": [],
   "source": [
    "def  Initialize_the_problem():\n",
    "    MinMax = int(input(\"NHẬP BÀI TOÁN QUY HOẠCH TUYẾN TÍNH\".center(120) + \"\\nNhập min/max của hàm mục tiêu (0 là min, 1 là max): \"))\n",
    "    variables = int(input(\"Nhập số lượng biến: \"))\n",
    "    quantity = int(input(\"Nhập số lượng ràng buộc của biến: \"))\n",
    "    \n",
    "    print('NHẬP CÁC HỆ SỐ VÀ DẤU RÀNG BUỘC CHO HÀM MỤC TIÊU VÀ CÁC RÀNG BUỘC BIẾN'.center(120))\n",
    "    arrayObj_func =  Goal_func(MinMax, variables)\n",
    "    arrayQuantity = constraints(variables, quantity)\n",
    "    show_contraints(arrayQuantity, quantity)\n",
    "    arrayVariables = constraint_for_variables(variables)\n",
    "    \n",
    "    return MinMax, variables, quantity, arrayObj_func, arrayQuantity, arrayVariables"
   ]
  },
  {
   "attachments": {},
   "cell_type": "markdown",
   "metadata": {},
   "source": [
    "## Chuẩn hóa"
   ]
  },
  {
   "attachments": {},
   "cell_type": "markdown",
   "metadata": {},
   "source": [
    "##### Chuẩn hóa ràng buộc dấu của biến"
   ]
  },
  {
   "cell_type": "code",
   "execution_count": 9,
   "metadata": {},
   "outputs": [],
   "source": [
    "def Normalize_constraint_variable(arrayVariables,arrayQuantity, log_record, arrayObj_func, variables, quantity):\n",
    "    for i in arrayVariables:\n",
    "    #Chuẩn hóa khi ràng buộc về biến là ≤ 0\n",
    "        if arrayVariables[i] == 0:                                                  \n",
    "            log_record[i] = '-' + i                                          #Khi chuẩn hóa ràng buộc biến là ≤ 0 thì sẽ thay đổi biến đó thành dạng VD x1 = -x1\n",
    "            arrayObj_func[i] = 0 - arrayObj_func[i]                          # để tối ưu cho việc tính toán sau này thì sẽ không thay đổi tên của biến\n",
    "            for j in range(quantity):                                        # Nhưng sẽ lưu sự thay đổi này vào log_record để kết luận sau này\n",
    "                arrayQuantity[i][j] = 0 - arrayQuantity[i][j]                #Việc chuẩn hóa này đồng thời sẽ tác động lên các ràng buộc và hàm mục tiêu\n",
    "                                                                        # Do đó chúng ta cũng phải sửa lại các ràng buộc và hàm mục tiêu\n",
    "        #Chuẩn hóa khi ràng buộc về biến là ≥ 0\n",
    "        if arrayVariables[i] == 2:                                           #Khi chuẩn hóa ràng buộc biến là tự do thì sẽ thay đổi biến đó thành dạng tạo\n",
    "            log_record[i] = [i,'x' + str(variables + 1)]                    # thêm biến mới\n",
    "            arrayObj_func['x' + str(variables + 1)] = 0 - arrayObj_func[i]    #VD: x1 = x1 - x2 , biến mới này phụ thuộc vào số biến ban đầu có\n",
    "            arrayQuantity['x' + str(variables + 1)] = [0 - arrayQuantity[i][j] for j in range(quantity)]    #VD ban đầu có x1,x2,x3 mà x1 tự do sẽ tạo thêm x4\n",
    "            variables += 1                                                                                  #Với x1 = x1 - x4 và x1 x4 lúc này đều dương\n",
    "    return arrayObj_func, variables, log_record, arrayQuantity"
   ]
  },
  {
   "attachments": {},
   "cell_type": "markdown",
   "metadata": {},
   "source": [
    "##### Chuẩn hóa các ràng buộc"
   ]
  },
  {
   "cell_type": "code",
   "execution_count": 10,
   "metadata": {},
   "outputs": [],
   "source": [
    "def Normalize_constraints(arrayQuantity, quantity):\n",
    "    for j in range(quantity):\n",
    "        if arrayQuantity['limited'][j] == '≥':                      #Với các ràng buộc ≥ thì sẽ nhân -1 cho tất cả các hệ số và cả giới hạ\n",
    "            for i in arrayQuantity: \n",
    "                if i != 'limited':\n",
    "                    arrayQuantity[i][j] = 0 - arrayQuantity[i][j]\n",
    "            arrayQuantity['limited'][j] = '≤'                       #sau đó thay đổi ràng buộc thành ≤\n",
    "        if arrayQuantity['limited'][j] == '=':\n",
    "            arrayQuantity['limited'][j] = '≤'                       #Với các ràng buộc = thì sẽ khởi tạo thêm ràng buộc mới giống như quy tắc chuẩn hóa chúng ta thường làm \n",
    "            for i in arrayQuantity:                                 \n",
    "                if i != 'limited':\n",
    "                    temp = arrayQuantity[i]\n",
    "                    temp.append(arrayQuantity[i][j])\n",
    "                    temp[j] = - temp[j]\n",
    "                    arrayQuantity[i] = temp\n",
    "            temp = arrayQuantity['limited']\n",
    "            temp.append('≤')\n",
    "            arrayQuantity['limited'] = temp\n",
    "            quantity += 1\n",
    "            \n",
    "    return arrayQuantity, quantity\n"
   ]
  },
  {
   "attachments": {},
   "cell_type": "markdown",
   "metadata": {},
   "source": [
    "##### Chuẩn hóa hàm mục tiêu"
   ]
  },
  {
   "cell_type": "code",
   "execution_count": 11,
   "metadata": {},
   "outputs": [],
   "source": [
    "def Normalize_GoalFunction(MinMax, arrayObj_func):\n",
    "    if MinMax == 1:                                     #Bước này sẽ kiểm tra nếu hàm mục tiêu là max thì sẽ chuẩn hóa nó\n",
    "        for i in arrayObj_func:\n",
    "            arrayObj_func[i] = 0 - arrayObj_func[i]\n",
    "    return arrayObj_func"
   ]
  },
  {
   "cell_type": "code",
   "execution_count": 12,
   "metadata": {},
   "outputs": [],
   "source": [
    "def Normalize(MinMax, arrayObj_func, arrayQuantity,arrayVariables, quantity, variables):\n",
    "    # lƯU LẠI CÁC THAY ĐỔI VỀ BIẾN KHI CHUẨN HÓA\n",
    "    log_record = {}\n",
    "    \n",
    "    # Chuẩn hóa ràng buộc biến\n",
    "    arrayObj_func, variables, log_record, arrayQuantity = Normalize_constraint_variable(arrayVariables,arrayQuantity, log_record, arrayObj_func, variables, quantity)                                            #log_record sẽ lưu các thay đổi ví dụ như nếu x1 = -x1 và x2 = x2 - x4 sẽ lưu là:\n",
    "    # {'x1': '-x1', 'x2': ['x2', 'x4']}\n",
    "    #Chuẩn hóa các ràng buộc\n",
    "    arrayQuantity, quantity = Normalize_constraints(arrayQuantity, quantity)\n",
    "    \n",
    "    #Chuẩn hóa hàm mục tiêu\n",
    "    arrayObj_func = Normalize_GoalFunction(MinMax, arrayObj_func)\n",
    "    \n",
    "    return  arrayObj_func, variables, log_record, arrayQuantity, quantity"
   ]
  },
  {
   "attachments": {},
   "cell_type": "markdown",
   "metadata": {},
   "source": [
    "## Đưa dữ liệu vào dataframe"
   ]
  },
  {
   "cell_type": "code",
   "execution_count": 13,
   "metadata": {},
   "outputs": [],
   "source": [
    "def Initialize_the_problem_into_table(variables, quantity, arrayQuantity, arrayObj_func):\n",
    "    #### tạo một list chuẩn bị\n",
    "    #Bước này để lấy các hệ số trong ràng buộc trước đồng thời khởi tạo dataframe để giải bài toán dưới dạng bảng trong QHTT\n",
    "    prepare = {}\n",
    "    for i in range(1, variables + 1):\n",
    "        prepare['x' + str(i)] = arrayQuantity['x' + str(i)]\n",
    "        temp = arrayQuantity['x' + str(i)]\n",
    "    df = pd.DataFrame(prepare)\n",
    "\n",
    "    #Hàm này để đưa hàm mục tiêu vào dataframe\n",
    "    Obj_func_row = pd.DataFrame(arrayObj_func, index=[0])\n",
    "    df = pd.concat([Obj_func_row, df.loc[:]]).reset_index(drop=True)\n",
    "    # Sau đó là thêm vào các w0,w1,w2 và giới hạn của từng ràng buộc\n",
    "    HeSo = [0]\n",
    "    for i in range(1,quantity + 1):\n",
    "        df['w' + str(i)] = [0 for j in range(quantity + 1)]\n",
    "        df['w' + str(i)][i] = 1\n",
    "        HeSo.append(arrayQuantity['HeSo'][i-1])\n",
    "    df['HeSo'] = HeSo\n",
    "    return df"
   ]
  },
  {
   "attachments": {},
   "cell_type": "markdown",
   "metadata": {},
   "source": [
    "## Truy xuất vào từng bài toán"
   ]
  },
  {
   "attachments": {},
   "cell_type": "markdown",
   "metadata": {},
   "source": [
    "#### Hàm dantzig"
   ]
  },
  {
   "cell_type": "code",
   "execution_count": 14,
   "metadata": {},
   "outputs": [],
   "source": [
    "def dantzig(array):\n",
    "        array = np.array(array, dtype=np.float64) #dataframe thành array\n",
    "        pivot_row = -1 # khởi tạo biến, dùng để sử dụng theo dõi hàng pivot\n",
    "        pivot_col = -1 # và cột pivot\n",
    "        while array[0, :-1].min() < 0: # duyệt giá trị hàm mục tiêu z có giá trị nhỏ nhất âm hay không, nếu có thì tiếp tục vòng lặp\n",
    "            pivot_col = np.argmin(array[0, :-1]) # gán vị trí của giá trị nhỏ nhất trong hàm mục tiêu vào pivot_col tìm biến vào\n",
    "            if (array[1:, pivot_col] <= 0).all(): # tìm biến ra, nếu các giá trị trong cột tương ứng với pivot_col(trừ hàng đầu tiên) nhỏ hơn hoặc bằng 0\n",
    "                return -1, array # trả về -1 ( ứng với trường hợp không giới nội)\n",
    "            else:\n",
    "                ratios = array[1:, -1] / array[1:, pivot_col] # lấy hệ số b tương ứng với cột (array[1:-1]) chia cho giá trị trong cột pivot_col để tìm biến ra.\n",
    "                ratios[array[1:, pivot_col] <= 0] = np.inf # gán giá trị ratios âm hoặc nhỏ hơn 0 vào giá trị inf để loại trừ nó và khỏi xem xét\n",
    "                pivot_row = np.argmin(ratios) + 1 # vị trí dòng có hệ số ratios nhỏ nhất(+1 vì bỏ dòng đầu tiên )\n",
    "            array[pivot_row, :] /= array[pivot_row, pivot_col] # biến đổi để giá trị ở array[pivot_row, pivot_col] = 1, và giá trị khác trong pivot_col = 0.\n",
    "            #pivot column lúc này trở thành biến cơ sở\n",
    "            for i in range(len(array)): # biến đổi các biến lại\n",
    "                if i != pivot_row:\n",
    "                    array[i, :] -= array[i, pivot_col] * array[pivot_row, :] \n",
    "            #display(pd.DataFrame(array))\n",
    "        return 1, array"
   ]
  },
  {
   "attachments": {},
   "cell_type": "markdown",
   "metadata": {},
   "source": [
    "#### Hàm Bland"
   ]
  },
  {
   "cell_type": "code",
   "execution_count": 15,
   "metadata": {},
   "outputs": [],
   "source": [
    "#Hàm Bland tương tự như hàm Dantzig \n",
    "def Bland(array):\n",
    "        array = np.array(array, dtype=np.float64) \n",
    "        pivot_row = -1 \n",
    "        pivot_col = -1 \n",
    "        while array[0, :-1].min() < 0:\n",
    "            # gán vị trí có giá trị âm ưu tiên ( x1 > x2 > ...> w1 > w2> ....) trong hàm mục tiêu vào pivot_col tìm biến vào\n",
    "            pivot_col = np.where(array[0, :-1] < 0)[0][0]\n",
    "            if (array[1:, pivot_col] <= 0).all(): \n",
    "                return -1, array\n",
    "            else:\n",
    "                ratios = array[1:, -1] / array[1:, pivot_col] \n",
    "                ratios[array[1:, pivot_col] <= 0] = np.inf \n",
    "                pivot_row = np.argmin(ratios) + 1 \n",
    "            array[pivot_row, :] /= array[pivot_row, pivot_col] \n",
    "            \n",
    "            for i in range(len(array)): \n",
    "                if i != pivot_row:\n",
    "                    array[i, :] -= array[i, pivot_col] * array[pivot_row, :] \n",
    "           \n",
    "        return 1, array"
   ]
  },
  {
   "attachments": {},
   "cell_type": "markdown",
   "metadata": {},
   "source": [
    "#### Hàm 2 pha"
   ]
  },
  {
   "cell_type": "code",
   "execution_count": 16,
   "metadata": {},
   "outputs": [],
   "source": [
    "# Ham xay dung bai toan bo tro dua tren bai toan goc\n",
    "def SupplementaryMath(data, cols_data, rows_data):\n",
    "    df = data.copy()\n",
    "    # Cho he so cua cac phan tu o ham muc tieu bang 0\n",
    "    for i in range(0, cols_data):\n",
    "        df.iloc[[0], [i]] = 0\n",
    "        \n",
    "    # Tao cot x0 \n",
    "    x0_values = [1] # Cho he so cua cac phan tu dau tien bang 1\n",
    "    for i in range(1, rows_data): # Cho he so cua cac phan tu con lai bang -1\n",
    "        x0_values.append(-1) \n",
    "    \n",
    "    # Them cot x0 vao data frame\n",
    "    df.insert(cols_data-1, 'x0', x0_values)\n",
    "    \n",
    "    return df"
   ]
  },
  {
   "attachments": {},
   "cell_type": "markdown",
   "metadata": {},
   "source": [
    "##### Pha 1"
   ]
  },
  {
   "cell_type": "code",
   "execution_count": 17,
   "metadata": {},
   "outputs": [],
   "source": [
    "# Ham tim vi tri cua phan tu x0\n",
    "def Find_x0_Index(df):\n",
    "    features_name = list(df.columns)\n",
    "    x0_index = features_name.index('x0')\n",
    "    return x0_index"
   ]
  },
  {
   "cell_type": "code",
   "execution_count": 18,
   "metadata": {},
   "outputs": [],
   "source": [
    "# Ham chuyen -0.0 -> +0.0\n",
    "def ConvertNegativeZero(matrix):\n",
    "    matrix += 0.0"
   ]
  },
  {
   "cell_type": "code",
   "execution_count": 19,
   "metadata": {},
   "outputs": [],
   "source": [
    "# Ham tim phan tu cua bien vao\n",
    "def FindInputIndex(array, cols, rows):\n",
    "    \n",
    "    min = array[0]\n",
    "    min_index = 0\n",
    "    for i in range(1, cols):\n",
    "        if array[i] < min:\n",
    "            min = array[i]\n",
    "            min_index = i\n",
    "        \n",
    "    return min_index"
   ]
  },
  {
   "cell_type": "code",
   "execution_count": 20,
   "metadata": {},
   "outputs": [],
   "source": [
    "def FirstStepOfPhase1(matrix, cols, rows, x0_index):\n",
    "    \n",
    "    min = matrix[1][-1]/abs(matrix[1][x0_index])\n",
    "    row_min_index = 1\n",
    "    for i in range(2, rows):\n",
    "        if matrix[i][-1]/abs(matrix[i][x0_index]) < min:\n",
    "            min = matrix[i][-1]/abs(matrix[i][x0_index])\n",
    "            row_min_index = i\n",
    "            \n",
    "    for i in range(0, rows):\n",
    "        if i != row_min_index:\n",
    "            coef = matrix[i][x0_index]/matrix[row_min_index][x0_index]\n",
    "            matrix[i][:] -= coef * matrix[row_min_index][:]\n",
    "    matrix[row_min_index][:] /= matrix[row_min_index][x0_index]\n",
    "            \n",
    "    ConvertNegativeZero(matrix)\n",
    "    \n",
    "    return matrix      "
   ]
  },
  {
   "cell_type": "code",
   "execution_count": 21,
   "metadata": {},
   "outputs": [],
   "source": [
    "def RemainingSteps(matrix, cols, rows, input_index):\n",
    "    \n",
    "    min = 100000000\n",
    "    row_min_index = -1\n",
    "    for i in range(1, rows):\n",
    "        if matrix[i][input_index] > 0:\n",
    "            if matrix[i][-1]/(matrix[i][input_index]) < min:\n",
    "                min = matrix[i][-1]/(matrix[i][input_index])\n",
    "                row_min_index = i\n",
    "    for i in range(0, rows):\n",
    "        if i != row_min_index and matrix[i][input_index] != 0:\n",
    "            coef = matrix[i][input_index]/matrix[row_min_index][input_index]\n",
    "            matrix[i][:] -= coef * matrix[row_min_index][:]\n",
    "    matrix[row_min_index][:] /= matrix[row_min_index][input_index]\n",
    "            \n",
    "    ConvertNegativeZero(matrix)\n",
    "    \n",
    "    return matrix\n"
   ]
  },
  {
   "cell_type": "code",
   "execution_count": 22,
   "metadata": {},
   "outputs": [],
   "source": [
    "# Ham kiem tra cac dieu kien\n",
    "def CheckTheConditions(df, matrix, cols, rows, x0_index):\n",
    "    # Xoay lan dau tien doi voi x0 > 0\n",
    "    matrix = FirstStepOfPhase1(matrix, cols, rows, x0_index)\n",
    "    \n",
    "    while True:\n",
    "        # Neu cac phan tu khac deu co he so bang 0 va x0 quay tro lai la bien chua co so\n",
    "        if np.all(matrix[0][:-2] == 0) == True and matrix[0][-1] == 0 and matrix[0][x0_index] == 1:\n",
    "            check = 2\n",
    "            break\n",
    "        # Neu cac phan tu khac deu co he so lon hon hoac bang 0 va x0 khong quay tro lai la bien co so\n",
    "        elif np.all(matrix[0][:-2] >= 0) == True and matrix[0][x0_index] == 0:\n",
    "            check = 0\n",
    "            break\n",
    "        # Truong hop con lai tim bien vao co so, tiep tuc xoay\n",
    "        else:\n",
    "            epsilon = matrix[0][:-2]\n",
    "            input_index = FindInputIndex(epsilon, cols-2, rows)\n",
    "            matrix = RemainingSteps(matrix, cols, rows, input_index)\n",
    "            \n",
    "    return (matrix, check)"
   ]
  },
  {
   "cell_type": "code",
   "execution_count": 23,
   "metadata": {},
   "outputs": [],
   "source": [
    "# Ham tim nhung bien co so\n",
    "def FindBasicVariables(matrix, cols, rows):\n",
    "    # Tao danh sach chua vi tri cua bien co so trong cot va dong chua bien co so\n",
    "    basic_variables_index = []\n",
    "    \n",
    "    for i in range(0, cols-1):\n",
    "        c0 = matrix[:, i] == 0\n",
    "        count0 = np.count_nonzero(c0 == True)\n",
    "        c1 = matrix[:, i] == 1\n",
    "        count1 = np.count_nonzero(c1 == True)\n",
    "        \n",
    "        # Bien co so la nhung bien ma cot cua no chua 1 gia tri 1 va cac gia tri con lai bang 0\n",
    "        if count0 + count1 == rows:\n",
    "            row_index = np.where(c1 == True)\n",
    "            basic_variables_index.append((i, row_index[0][0]))\n",
    "            \n",
    "    return basic_variables_index"
   ]
  },
  {
   "cell_type": "code",
   "execution_count": 24,
   "metadata": {},
   "outputs": [],
   "source": [
    "# Ham tao ra z moi\n",
    "def New_z(data, matrix_data, matrix, cols_data, rows_data, cols, rows):\n",
    "    # Lay cac he so cua ham muc tieu o bai toan goc va bai toan bo tro\n",
    "    z = matrix_data[0][:]\n",
    "    z_new = matrix[0][:]\n",
    "\n",
    "    # Tim cac bien co so sau khi giai bai toan bo tro\n",
    "    basic_variables = FindBasicVariables(matrix, cols, rows)\n",
    "    bv_index = [] # Tao danh sach chua vi tri cua cac bien co so trong moi cot\n",
    "    bv_rows = [] # Tao danh sach chua dong chua bien co so trong mot cot\n",
    "    # Them cac bien vi tri cua cac bien co so trong moi cot va dong cua no vao hai danh sach\n",
    "    for i in range(0, len(basic_variables)):\n",
    "        bv_index.append(basic_variables[i][0])\n",
    "        bv_rows.append(basic_variables[i][1])\n",
    "    dictionary_index_rows = dict(zip(bv_index, bv_rows))\n",
    "\n",
    "    z_basic_variables_index = [] # Tao danh sach chua vi tri cua cac bien co so trong moi cot\n",
    "    z_non_basic_variables_index = [] # Tao danh sach chua vi tri cua cac bien khong co so trong moi cot\n",
    "    # Tien hanh them cac bien nay vao hai danh sach\n",
    "    for i in range(0, cols_data-1):\n",
    "        if i in bv_index and z[i] != 0: # Kiem tra neu bien nay la bien co so o z' va he so cua no o ham muc tieu goc khac 0\n",
    "            z_basic_variables_index.append(i)\n",
    "        elif i not in bv_index and z[i] != 0: # Kiem tra neu bien nay la bien khong co so o z' va he so cua no o ham muc tieu goc khac 0\n",
    "            z_non_basic_variables_index.append(i)\n",
    "\n",
    "    # Chuyen doi z ve z_new ung voi bai toan chap nhan duoc\n",
    "    for i in range(0, cols-1):\n",
    "        # Neu i dang xet la bien co so o bai toan bo tro\n",
    "        if i in z_basic_variables_index:\n",
    "            temp_i = dictionary_index_rows[i]\n",
    "            temp = matrix[temp_i][:].copy()\n",
    "            temp[i] = 0\n",
    "            temp[0:] *= -1\n",
    "            z_new += z[i] * temp\n",
    "        # Neu i dang xet la bien khong co so o bai toan bo tro\n",
    "        elif i in z_non_basic_variables_index:\n",
    "            temp = np.zeros(cols_data)\n",
    "            temp[i] = 1\n",
    "            z_new += z[i] * temp\n",
    "    \n",
    "    return z_new"
   ]
  },
  {
   "cell_type": "code",
   "execution_count": 25,
   "metadata": {},
   "outputs": [],
   "source": [
    "# Ham tao ra bang chap nhan duoc\n",
    "def AcceptableTable(data, matrix_data, df, matrix, cols_data, rows_data, cols, rows):\n",
    "    # Tim z_new va them z_new vao ma tran\n",
    "    z_new = New_z(data, matrix_data, matrix, cols_data, rows_data, cols, rows)\n",
    "    matrix[0][:] = z_new\n",
    "\n",
    "    ConvertNegativeZero(matrix)\n",
    "\n",
    "    # Thay doi noi dung cho data frame goc\n",
    "    features_name = list(df.columns)\n",
    "    df = pd.DataFrame(matrix, columns=features_name)\n",
    "        \n",
    "    return df # Tra ve data frame chap nhan duoc"
   ]
  },
  {
   "cell_type": "code",
   "execution_count": 26,
   "metadata": {},
   "outputs": [],
   "source": [
    "# Ham thuc thi pha 1\n",
    "def Phase1(data, matrix_data, df, matrix, cols_data, rows_data, cols, rows, x0_index):\n",
    "    (matrix, check) = CheckTheConditions(df, matrix, cols, rows, x0_index)\n",
    "    if check == 2:\n",
    "        features_name = list(df.columns)\n",
    "        df = pd.DataFrame(matrix, columns=features_name)\n",
    "        df = df.drop(columns='x0')\n",
    "        matrix = np.delete(matrix, np.s_[x0_index:x0_index+1], axis=1) \n",
    "        \n",
    "        df = AcceptableTable(data, matrix_data, df, matrix, cols_data, rows_data, cols, rows)\n",
    "        return check, df\n",
    "    return check, df"
   ]
  },
  {
   "cell_type": "code",
   "execution_count": 27,
   "metadata": {},
   "outputs": [],
   "source": [
    "def two_Phase(data):\n",
    "\n",
    "    #Lưu các thông số dòng và cột của data\n",
    "    rows_data, cols_data = data.shape\n",
    "    matrix_data = np.array(data, dtype=float)\n",
    "\n",
    "    #Đưa về bài toán bổ trợ\n",
    "    df = SupplementaryMath(data, cols_data, rows_data)\n",
    "\n",
    "    #Lưu các thông số dòng và cột của df\n",
    "    rows, cols = df.shape\n",
    "    matrix = np.array(df, dtype=float)\n",
    "    \n",
    "    #Pha 1\n",
    "    x0_index = Find_x0_Index(df)\n",
    "    check, output = Phase1(data, matrix_data, df, matrix, cols_data, rows_data, cols, rows, x0_index)\n",
    "    #Nếu Pha 1 trả về check == 2\n",
    "    if check == 2:\n",
    "        array = []\n",
    "        for i in range(np.shape(output)[0]):\n",
    "            array.append([str(output.values[i,j]) for j in range(np.shape(output)[1])])\n",
    "        check, output = dantzig(array)\n",
    "    return check, output"
   ]
  },
  {
   "attachments": {},
   "cell_type": "markdown",
   "metadata": {},
   "source": [
    "### Hàm phân loại trường hợp bài toán và áp dụng cách giải phù hợp"
   ]
  },
  {
   "cell_type": "code",
   "execution_count": 28,
   "metadata": {},
   "outputs": [],
   "source": [
    "def is_basic(column): # kiem tra biến cơ sở\n",
    "    return sum(column) == 1 and len([c for c in column if c == 0]) == len(column) - 1\n",
    "#trong \n",
    "#nếu tổng hệ số của một cột bằng 1 và len của index c trong column bằng 0 và bằng với len(column) - 1"
   ]
  },
  {
   "cell_type": "code",
   "execution_count": 29,
   "metadata": {},
   "outputs": [],
   "source": [
    "def Conclusion(check, output, MinMax, log_record):\n",
    "    row, col = output.shape\n",
    "    obj = 0\n",
    "    x = 0\n",
    "\n",
    "    if (check == -1):\n",
    "        print(\"Bài toán không giới nội.\")\n",
    "        obj = np.inf\n",
    "        x = (\"Không có nghiệm\")\n",
    "        print(\"Giá trị tối ưu của bài toán: \", obj)\n",
    "        print(x)\n",
    "      \n",
    "    else:\n",
    "        obj = output[0,-1]\n",
    "\n",
    "        if MinMax == 1:\n",
    "            obj = -obj\n",
    "        print(output)\n",
    "\n",
    "        if log_record != {}:\n",
    "            for i in log_record:\n",
    "                if log_record[i][0] != '-':\n",
    "                    output = np.delete(output, int(log_record[i][1][1]) - 1, axis= 1)\n",
    "                    col -= 1\n",
    "\n",
    "        for i in range(col - 1):\n",
    "            # kiểm tra nếu không phải là biến cơ sở và cái column còn lại tồn tại 1 index có giá trị = 0\n",
    "            if (not is_basic(output[:,i]) and (output[1,i] == 0)):\n",
    "                print(\"Bài toán vô số nghiệm.\")\n",
    "                x =  (\"Vô số nghiệm\")\n",
    "                break\n",
    "            else:\n",
    "                solutions = np.zeros(col-1)\n",
    "                for i in range(col-1):\n",
    "                    if is_basic(output[:,i]):\n",
    "                        for j in range(1,row):\n",
    "                            if output[j,i] == 1:\n",
    "                                solutions[i] = output[j,-1]\n",
    "                        x = solutions[:col-row]\n",
    "\n",
    "                if log_record != {}:\n",
    "                    x_new = []\n",
    "                    for i in log_record:\n",
    "                        if log_record[i][0] == '-':\n",
    "                            x_new.append(0 - x[int(i[1]) - 1])\n",
    "                    x = x_new\n",
    "                    \n",
    "        print(\"Nghiệm tối ưu của bài toán: \")\n",
    "        for i in range(len(x)):\n",
    "            print('\\tx' + str(i + 1) + ': ', x[i])               \n",
    "        print(\"Giá trị tối ưu của bài toán: \", -obj)\n",
    "                    "
   ]
  },
  {
   "cell_type": "code",
   "execution_count": 30,
   "metadata": {},
   "outputs": [
    {
     "name": "stdout",
     "output_type": "stream",
     "text": [
      "                         NHẬP CÁC HỆ SỐ VÀ DẤU RÀNG BUỘC CHO HÀM MỤC TIÊU VÀ CÁC RÀNG BUỘC BIẾN                         \n",
      "HÀM MỤC TIÊU\n",
      "Nhập các hệ số của hàm mục tiêu: \n",
      "Hàm mục tiêu:   Min  0.0*x1 -7.0*x2 + 3.0*x3\n",
      "\n",
      "CÁC RÀNG BUỘC BIẾN\n",
      "Nhập các hệ số của các ràng buộc và giới hạn của nó: \n",
      "Ràng buộc thứ 1\n",
      "Ràng buộc thứ 2\n",
      "Ràng buộc thứ 3\n",
      "Ràng buộc thứ 4\n",
      "Các ràng buộc biến vừa nhập: \n",
      "  -1.0*x1  -2.0*x2  -1.0*x3  ≤  -3\n",
      "  -1.0*x1  0.0*x2  0.0*x3  ≤   1\n",
      "   1.0*x1  +3.0*x2  +2.0*x3  =   27\n",
      "   2.0*x1  -1.0*x2  +3.0*x3  =   12\n",
      "\n",
      "RÀNG BUỘC DẤU\n",
      "Nhập ràng buộc dấu của từng biến: \n",
      "Các ràng buộc của từng biến là:\n",
      "\tx1 tự do\n",
      "\tx2 tự do\n",
      "\tx3 ≥ 0\n",
      "                                              KẾT LUẬN                                              \n",
      "[[ 0.          0.          4.          0.          0.          0.\n",
      "   0.          0.          1.          2.          0.         42.        ]\n",
      " [ 0.          0.          0.85714286  0.          0.          1.\n",
      "   0.          0.         -0.14285714  0.71428571  0.         18.        ]\n",
      " [ 0.          0.          1.57142857  0.          0.          0.\n",
      "   1.          0.         -0.42857143  0.14285714  0.         10.        ]\n",
      " [ 1.          0.          1.57142857 -1.          0.          0.\n",
      "   0.          0.         -0.42857143  0.14285714  0.          9.        ]\n",
      " [ 0.          1.          0.14285714  0.         -1.          0.\n",
      "   0.          0.          0.14285714  0.28571429  0.          6.        ]\n",
      " [ 0.          0.          0.          0.          0.          0.\n",
      "   0.          1.          0.          1.          0.          0.        ]\n",
      " [ 0.          0.          0.          0.          0.          0.\n",
      "   0.          0.          1.          0.          1.          0.        ]]\n",
      "Bài toán vô số nghiệm.\n",
      "Nghiệm tối ưu của bài toán: \n",
      "\tx1:  V\n",
      "\tx2:  ô\n",
      "\tx3:   \n",
      "\tx4:  s\n",
      "\tx5:  ố\n",
      "\tx6:   \n",
      "\tx7:  n\n",
      "\tx8:  g\n",
      "\tx9:  h\n",
      "\tx10:  i\n",
      "\tx11:  ệ\n",
      "\tx12:  m\n",
      "Giá trị tối ưu của bài toán:  -42.0\n"
     ]
    }
   ],
   "source": [
    "def main():\n",
    "    MinMax, variables, quantity, arrayObj_func, arrayQuantity, arrayVariables = Initialize_the_problem()\n",
    "    ##### Chuẩn hóa bài toán \n",
    "    arrayObj_func, variables, log_record, arrayQuantity, quantity = Normalize(MinMax, arrayObj_func, arrayQuantity,arrayVariables, quantity, variables)\n",
    "    ### đua dữ liệu vào dataframe để giải bài toán theo dạng bảng\n",
    "    df = Initialize_the_problem_into_table(variables, quantity, arrayQuantity, arrayObj_func)\n",
    "     \n",
    "    print('KẾT LUẬN'.center(100))\n",
    "    if np.any(df['HeSo'][1:] < 0):         #Nếu trong dataframe có bất kỳ một giá trị bi nào nhỏ hơn 0 sẽ thực hiện 2 pha\n",
    "        check, output = two_Phase(df)\n",
    "        if check == 0:\n",
    "            print('Bài toán vô nghiệm.')\n",
    "        else:\n",
    "            Conclusion(check, output, MinMax, log_record)\n",
    "\n",
    "    elif np.all(df['HeSo'][1:] > 0):       #Nếu trong dataframe có tất cả giá trị bi lớn hơn 0 sẽ thực hiện dantzig\n",
    "        array = []\n",
    "        for i in range(np.shape(df)[0]):\n",
    "            array.append([str(df.values[i,j]) for j in range(np.shape(df)[1])])\n",
    "        check, output = dantzig(array)\n",
    "    \n",
    "        Conclusion(check, output, MinMax, log_record)\n",
    "\n",
    "    else:                      #Nếu không nằm trong 2 trường hợp trên thì thực hiện bland\n",
    "        array = []\n",
    "        for i in range(np.shape(df)[0]):\n",
    "            array.append([str(df.values[i,j]) for j in range(np.shape(df)[1])])\n",
    "        check, output = Bland(array)\n",
    "        Conclusion(check, output, MinMax, log_record)\n",
    "\n",
    "if __name__ == '__main__':\n",
    "    main()\n",
    "    "
   ]
  },
  {
   "cell_type": "code",
   "execution_count": null,
   "metadata": {},
   "outputs": [],
   "source": []
  }
 ],
 "metadata": {
  "kernelspec": {
   "display_name": "Python 3 (ipykernel)",
   "language": "python",
   "name": "python3"
  },
  "language_info": {
   "codemirror_mode": {
    "name": "ipython",
    "version": 3
   },
   "file_extension": ".py",
   "mimetype": "text/x-python",
   "name": "python",
   "nbconvert_exporter": "python",
   "pygments_lexer": "ipython3",
   "version": "3.10.11"
  }
 },
 "nbformat": 4,
 "nbformat_minor": 2
}
